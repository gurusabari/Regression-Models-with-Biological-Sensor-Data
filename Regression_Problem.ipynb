{
  "nbformat": 4,
  "nbformat_minor": 0,
  "metadata": {
    "colab": {
      "provenance": []
    },
    "kernelspec": {
      "name": "python3",
      "display_name": "Python 3"
    },
    "language_info": {
      "name": "python"
    }
  },
  "cells": [
    {
      "cell_type": "code",
      "execution_count": 14,
      "metadata": {
        "id": "Hl2SQZ2wkTA2"
      },
      "outputs": [],
      "source": [
        "import pandas as pd\n",
        "from sklearn.svm import SVR\n",
        "from sklearn.linear_model import LinearRegression\n",
        "from sklearn.metrics import mean_squared_error, mean_absolute_error\n",
        "from sklearn.preprocessing import StandardScaler\n",
        "from sklearn.preprocessing import StandardScaler"
      ]
    },
    {
      "cell_type": "code",
      "source": [
        "# Step 1: Load the training and testing datasets\n",
        "train_data = pd.read_csv(\"p1_train.csv\")\n",
        "test_data = pd.read_csv(\"p1_test.csv\")\n",
        "\n",
        "# Extract features and target variable from the datasets\n",
        "X_train = train_data.iloc[:, :-1]  # Features (all columns except the last one)\n",
        "y_train = train_data.iloc[:, -1]   # Target variable (last column)\n",
        "\n",
        "X_test = test_data.iloc[:, :-1]    # Features in the test set\n",
        "y_test = test_data.iloc[:, -1]     # Target variable in the test set"
      ],
      "metadata": {
        "id": "5wDO1FbJkqsM"
      },
      "execution_count": 15,
      "outputs": []
    },
    {
      "cell_type": "code",
      "source": [
        "print(\"Training dataset columns:\", X_train.columns)\n",
        "print(\"Test dataset columns:\", X_test.columns)"
      ],
      "metadata": {
        "colab": {
          "base_uri": "https://localhost:8080/"
        },
        "id": "gr5gcZHpmB6v",
        "outputId": "b3fa6a2b-7c29-498f-c2b6-8bfd1ed87427"
      },
      "execution_count": 16,
      "outputs": [
        {
          "output_type": "stream",
          "name": "stdout",
          "text": [
            "Training dataset columns: Index(['-7.262173392018990370e+00', '9.572603824406265005e+00'], dtype='object')\n",
            "Test dataset columns: Index(['1.589300268390259419e+01', '1.171282902260990966e+01'], dtype='object')\n"
          ]
        }
      ]
    },
    {
      "cell_type": "code",
      "source": [
        "# Rename the columns in the test dataset to match those in the training dataset\n",
        "X_test.columns = X_train.columns\n",
        "\n",
        "# Now scale the test dataset using the same scaler\n",
        "scaler = StandardScaler()\n",
        "scaler.fit(X_train)\n",
        "X_test_scaled = scaler.transform(X_test)"
      ],
      "metadata": {
        "id": "xWD6_WjXmMan"
      },
      "execution_count": 17,
      "outputs": []
    },
    {
      "cell_type": "code",
      "source": [
        "# Step 2: Preprocess the data if necessary\n",
        "# You may want to scale the features for SVR\n",
        "scaler = StandardScaler()\n",
        "X_train_scaled = scaler.fit_transform(X_train)\n",
        "X_test_scaled = scaler.transform(X_test)"
      ],
      "metadata": {
        "id": "z3arhKUXmP2w"
      },
      "execution_count": 18,
      "outputs": []
    },
    {
      "cell_type": "code",
      "source": [
        "# Step 3: Train linear regression model\n",
        "linear_model = LinearRegression()\n",
        "linear_model.fit(X_train, y_train)\n",
        "\n",
        "# List down the coefficients of the linear regression model\n",
        "coefficients = linear_model.coef_\n",
        "intercept = linear_model.intercept_\n",
        "\n",
        "print(\"Coefficients:\", coefficients)\n",
        "print(\"Intercept:\", intercept)"
      ],
      "metadata": {
        "colab": {
          "base_uri": "https://localhost:8080/"
        },
        "id": "ucZ3PUFRmVfk",
        "outputId": "861daef2-6ff3-4fa9-8be6-c4b5586a8ae5"
      },
      "execution_count": 19,
      "outputs": [
        {
          "output_type": "stream",
          "name": "stdout",
          "text": [
            "Coefficients: [-1.99966328 -0.99729226]\n",
            "Intercept: 2.9791572990622712\n"
          ]
        }
      ]
    },
    {
      "cell_type": "code",
      "source": [
        "# Step 4: Train Support Vector Regression (SVR) model\n",
        "svr_model = SVR(kernel='linear')  # You can try different kernels like 'rbf' or 'poly' as well\n",
        "svr_model.fit(X_train_scaled, y_train)\n",
        "\n",
        "# List down the support vectors of the SVR model\n",
        "support_vectors = svr_model.support_vectors_\n",
        "\n",
        "# List down the coefficients of the SVR model (if applicable)\n",
        "if svr_model.kernel == 'linear':\n",
        "    coefficients = svr_model.coef_\n",
        "else:\n",
        "    coefficients = None\n",
        "\n",
        "# List down the intercept of the SVR model (if applicable)\n",
        "intercept = svr_model.intercept_\n",
        "\n",
        "print(\"Support Vectors:\", support_vectors)\n",
        "print(\"Coefficients:\", coefficients)\n",
        "print(\"Intercept:\", intercept)"
      ],
      "metadata": {
        "colab": {
          "base_uri": "https://localhost:8080/"
        },
        "id": "NoruL_ypmZrw",
        "outputId": "54f5135e-c70b-4a26-99a4-519270205852"
      },
      "execution_count": 20,
      "outputs": [
        {
          "output_type": "stream",
          "name": "stdout",
          "text": [
            "Support Vectors: [[ 0.3093122   0.92220586]\n",
            " [-1.1156724  -0.30885702]\n",
            " [ 0.62284599 -1.23476492]\n",
            " ...\n",
            " [ 1.53236038  0.97809193]\n",
            " [ 0.05560497 -1.33192606]\n",
            " [ 0.94148424 -0.24564666]]\n",
            "Coefficients: [[-23.09760648 -11.44225397]]\n",
            "Intercept: [3.12286914]\n"
          ]
        }
      ]
    },
    {
      "cell_type": "code",
      "source": [
        "# Step 5: Evaluate the trained models\n",
        "# For Linear Regression\n",
        "y_pred_linear = linear_model.predict(X_test)\n",
        "mse_linear = mean_squared_error(y_test, y_pred_linear)\n",
        "mae_linear = mean_absolute_error(y_test, y_pred_linear)\n",
        "\n",
        "# For SVR\n",
        "y_pred_svr = svr_model.predict(X_test_scaled)\n",
        "mse_svr = mean_squared_error(y_test, y_pred_svr)\n",
        "mae_svr = mean_absolute_error(y_test, y_pred_svr)"
      ],
      "metadata": {
        "id": "P0csfByQmerB"
      },
      "execution_count": 21,
      "outputs": []
    },
    {
      "cell_type": "code",
      "source": [
        "# Step 6: Report the evaluation metrics\n",
        "print(\"Linear Regression:\")\n",
        "print(\"Mean Squared Error (MSE):\", mse_linear)\n",
        "print(\"Mean Absolute Error (MAE):\", mae_linear)\n",
        "\n",
        "print(\"\\nSupport Vector Regression (SVR):\")\n",
        "print(\"Mean Squared Error (MSE):\", mse_svr)\n",
        "print(\"Mean Absolute Error (MAE):\", mae_svr)"
      ],
      "metadata": {
        "colab": {
          "base_uri": "https://localhost:8080/"
        },
        "id": "qhFqtVo9mf1Z",
        "outputId": "ba546b89-38d5-4e2d-e50d-5926bdf2ebfa"
      },
      "execution_count": 22,
      "outputs": [
        {
          "output_type": "stream",
          "name": "stdout",
          "text": [
            "Linear Regression:\n",
            "Mean Squared Error (MSE): 5.045760259110822\n",
            "Mean Absolute Error (MAE): 1.7988557623211767\n",
            "\n",
            "Support Vector Regression (SVR):\n",
            "Mean Squared Error (MSE): 5.044466794186341\n",
            "Mean Absolute Error (MAE): 1.7985159176744716\n"
          ]
        }
      ]
    },
    {
      "cell_type": "code",
      "source": [
        "# Step 5: Evaluate the trained models using test data\n",
        "# For Linear Regression\n",
        "y_pred_linear_test = linear_model.predict(X_test)\n",
        "mse_linear_test = mean_squared_error(y_test, y_pred_linear_test)\n",
        "mae_linear_test = mean_absolute_error(y_test, y_pred_linear_test)\n",
        "\n",
        "# For SVR\n",
        "y_pred_svr_test = svr_model.predict(X_test_scaled)\n",
        "mse_svr_test = mean_squared_error(y_test, y_pred_svr_test)\n",
        "mae_svr_test = mean_absolute_error(y_test, y_pred_svr_test)\n",
        "\n",
        "# Report the evaluation metrics for test data\n",
        "print(\"\\nEvaluation Metrics on Test Data:\")\n",
        "print(\"Linear Regression:\")\n",
        "print(\"Mean Squared Error (MSE):\", mse_linear_test)\n",
        "print(\"Mean Absolute Error (MAE):\", mae_linear_test)\n",
        "\n",
        "print(\"\\nSupport Vector Regression (SVR):\")\n",
        "print(\"Mean Squared Error (MSE):\", mse_svr_test)\n",
        "print(\"Mean Absolute Error (MAE):\", mae_svr_test)"
      ],
      "metadata": {
        "colab": {
          "base_uri": "https://localhost:8080/"
        },
        "id": "ourxl1VYrtYO",
        "outputId": "ba199e5b-d20a-4a39-e371-d6fb8ad9935b"
      },
      "execution_count": 23,
      "outputs": [
        {
          "output_type": "stream",
          "name": "stdout",
          "text": [
            "\n",
            "Evaluation Metrics on Test Data:\n",
            "Linear Regression:\n",
            "Mean Squared Error (MSE): 5.045760259110822\n",
            "Mean Absolute Error (MAE): 1.7988557623211767\n",
            "\n",
            "Support Vector Regression (SVR):\n",
            "Mean Squared Error (MSE): 5.044466794186341\n",
            "Mean Absolute Error (MAE): 1.7985159176744716\n"
          ]
        }
      ]
    }
  ]
}